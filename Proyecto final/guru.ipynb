{
  "cells": [
    {
      "cell_type": "markdown",
      "id": "193a2a8f-f286-44bd-abfc-9431446d5911",
      "metadata": {
        "id": "193a2a8f-f286-44bd-abfc-9431446d5911"
      },
      "source": [
        "## Gurú Financiero "
      ]
    },
    {
      "cell_type": "markdown",
      "id": "d2b71a83-ff19-4195-adf0-c28dacca7482",
      "metadata": {
        "id": "d2b71a83-ff19-4195-adf0-c28dacca7482"
      },
      "source": [
        "Integrantes:  \n",
        "          Yennyfer Andrea Niño  \n",
        "          Sebastián Alejandro Lozano  \n",
        "          Fredy Arley Urrea Cifuentes"
      ]
    },
    {
      "cell_type": "markdown",
      "id": "87b83087-fcb3-4b49-bc90-457baffc676f",
      "metadata": {
        "id": "87b83087-fcb3-4b49-bc90-457baffc676f"
      },
      "source": [
        "## Descripción"
      ]
    },
    {
      "cell_type": "markdown",
      "id": "24e67422-eb07-481e-aaa0-bad832a61eb2",
      "metadata": {
        "id": "24e67422-eb07-481e-aaa0-bad832a61eb2"
      },
      "source": [
        "La IA analizará grandes cantidades de datos financieros y económicos en tiempo real, identificando tendencias y patrones en el mercado, permitiendo a los usuarios tomar decisiones de inversión informadas y basadas en datos. Así mismo se adaptaría a las necesidades y preferencias individuales de cada usuario, sugiriendo opciones de inversión que se ajusten a su perfil de riesgo y objetivos financieros. La IA podría proporcionar asesoramiento en tiempo real sobre oportunidades de inversión y cómo maximizar las ganancias a largo plazo."
      ]
    },
    {
      "cell_type": "markdown",
      "id": "a043f57e-0ea0-44be-986d-f166cbb02aa5",
      "metadata": {
        "id": "a043f57e-0ea0-44be-986d-f166cbb02aa5"
      },
      "source": [
        "## Problema"
      ]
    },
    {
      "cell_type": "markdown",
      "id": "819aea01-e17b-4e4a-8d85-63bf03030c50",
      "metadata": {
        "id": "819aea01-e17b-4e4a-8d85-63bf03030c50"
      },
      "source": [
        "En general los Colombianos carecen de educación financiera, existe muchos mitos sobre las inversiones, por lo cual no hay confianza en el mercado y la gente no sabe cómo ni por dónde empezar a invertir."
      ]
    },
    {
      "cell_type": "markdown",
      "id": "66123cd7-185b-4bad-ab3a-dce8373541b4",
      "metadata": {
        "id": "66123cd7-185b-4bad-ab3a-dce8373541b4"
      },
      "source": [
        "## Objetivo"
      ]
    },
    {
      "cell_type": "markdown",
      "id": "3b6377d1-2151-4c27-920f-1ec42d54b142",
      "metadata": {
        "id": "3b6377d1-2151-4c27-920f-1ec42d54b142"
      },
      "source": [
        "Hacer que el proceso de inversión sea más fácil, accesible y rentable para todos, independientemente de su nivel de experiencia financiera."
      ]
    },
    {
      "cell_type": "markdown",
      "id": "28396b6c-ca40-456e-bc12-18ece6e5b753",
      "metadata": {
        "id": "28396b6c-ca40-456e-bc12-18ece6e5b753"
      },
      "source": [
        "## Objetivos específicos"
      ]
    },
    {
      "cell_type": "markdown",
      "id": "43db9b04-cae5-4301-a554-b3f72c136795",
      "metadata": {
        "id": "43db9b04-cae5-4301-a554-b3f72c136795"
      },
      "source": [
        "1. Clasificar a cada usuario en un perfil de riesgo, a través de preguntas estratégicas."
      ]
    },
    {
      "cell_type": "markdown",
      "id": "cc132891-5825-4d79-a548-117fa89494f2",
      "metadata": {
        "id": "cc132891-5825-4d79-a548-117fa89494f2"
      },
      "source": [
        "2. Sugerir al usuario todas las opciones que tiene existen en el mercado de acuerdo a su perfil de riesgo."
      ]
    },
    {
      "cell_type": "markdown",
      "id": "16b6bf6c-7128-49e5-b48f-c469ad9c0df0",
      "metadata": {
        "id": "16b6bf6c-7128-49e5-b48f-c469ad9c0df0"
      },
      "source": []
    }
  ],
  "metadata": {
    "kernelspec": {
      "display_name": "Python 3 (ipykernel)",
      "language": "python",
      "name": "python3"
    },
    "language_info": {
      "codemirror_mode": {
        "name": "ipython",
        "version": 3
      },
      "file_extension": ".py",
      "mimetype": "text/x-python",
      "name": "python",
      "nbconvert_exporter": "python",
      "pygments_lexer": "ipython3",
      "version": "3.9.7"
    },
    "colab": {
      "provenance": []
    }
  },
  "nbformat": 4,
  "nbformat_minor": 5
}
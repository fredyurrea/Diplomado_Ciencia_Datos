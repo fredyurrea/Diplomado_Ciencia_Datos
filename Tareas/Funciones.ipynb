{
  "cells": [
    {
      "cell_type": "markdown",
      "id": "992dca02-0c66-4399-b5bc-acd881846b02",
      "metadata": {
        "tags": [],
        "id": "992dca02-0c66-4399-b5bc-acd881846b02"
      },
      "source": [
        "# TAREA 2: SOBRE FUNCIONES"
      ]
    },
    {
      "cell_type": "markdown",
      "id": "27e1d018-88a5-46dd-b6bc-a67127a26c22",
      "metadata": {
        "id": "27e1d018-88a5-46dd-b6bc-a67127a26c22"
      },
      "source": [
        "1. Este es un programa que calcula la edad de una persona"
      ]
    },
    {
      "cell_type": "code",
      "execution_count": 1,
      "id": "605e2968-197f-47ce-aa8f-7da1ebc8601a",
      "metadata": {
        "id": "605e2968-197f-47ce-aa8f-7da1ebc8601a"
      },
      "outputs": [],
      "source": [
        "from datetime import date\n",
        "def calcular_edad(fecha_nacimiento):\n",
        "    hoy = date.today()\n",
        "    edad = hoy.year - fecha_nacimiento.year - ((hoy.month, hoy.day) < (fecha_nacimiento.month, fecha_nacimiento.day))\n",
        "    return edad"
      ]
    },
    {
      "cell_type": "code",
      "execution_count": null,
      "id": "191073cd-940e-421e-b42f-99e53e9ec381",
      "metadata": {
        "id": "191073cd-940e-421e-b42f-99e53e9ec381"
      },
      "outputs": [],
      "source": [
        "año=int(input(\"Ingrese su año de nacimiento: \"))\n",
        "mes=int(input(\"Ingrese su mes de nacimiento: \"))\n",
        "día=int(input(\"Ingrese el día de su nadimiento: \"))\n",
        "fecha_nacimiento = date(año, mes, día) \n",
        "edad = calcular_edad(fecha_nacimiento)\n",
        "print(f\"Su edad es: {edad} anõs\")\n"
      ]
    },
    {
      "cell_type": "markdown",
      "id": "fbe8fe70-b68d-40cf-8f0a-0ad5bed23b01",
      "metadata": {
        "id": "fbe8fe70-b68d-40cf-8f0a-0ad5bed23b01"
      },
      "source": [
        "2. Escribir centrado"
      ]
    },
    {
      "cell_type": "code",
      "execution_count": null,
      "id": "867952a5-3c86-4fe1-a68d-59e9ff02a569",
      "metadata": {
        "id": "867952a5-3c86-4fe1-a68d-59e9ff02a569"
      },
      "outputs": [],
      "source": [
        "def escribir_centrado(texto):\n",
        "    longitud = len(texto)\n",
        "    margen = 40 - longitud // 2\n",
        "    print(\" \" * margen + texto)"
      ]
    },
    {
      "cell_type": "code",
      "execution_count": null,
      "id": "8eb95088-297f-42b1-8cf5-2fe732a99ebd",
      "metadata": {
        "id": "8eb95088-297f-42b1-8cf5-2fe732a99ebd"
      },
      "outputs": [],
      "source": [
        "texto = input(\"\")\n",
        "escribir_centrado(texto)"
      ]
    },
    {
      "cell_type": "markdown",
      "id": "490f314e-8392-4674-9292-fcab01ee4a75",
      "metadata": {
        "id": "490f314e-8392-4674-9292-fcab01ee4a75"
      },
      "source": [
        "3.Función decorada"
      ]
    },
    {
      "cell_type": "code",
      "execution_count": null,
      "id": "3c692c64-6204-4318-b60e-031c6146f8e7",
      "metadata": {
        "id": "3c692c64-6204-4318-b60e-031c6146f8e7"
      },
      "outputs": [],
      "source": [
        "def markdown_decorador(funcion):\n",
        "    def wrapper(texto):\n",
        "        texto_resaltado = f\"**_{texto}_**\"\n",
        "        return funcion(texto_resaltado)\n",
        "    return wrapper\n",
        "@markdown_decorador\n",
        "def imprimir_texto(texto):\n",
        "    print(texto)\n",
        "\n",
        "imprimir_texto(\"Hola, mundo!\")"
      ]
    },
    {
      "cell_type": "markdown",
      "id": "a3ab1361-9f30-465e-b80b-3ca8814f96c7",
      "metadata": {
        "id": "a3ab1361-9f30-465e-b80b-3ca8814f96c7"
      },
      "source": [
        "4. Multiplos"
      ]
    },
    {
      "cell_type": "code",
      "execution_count": null,
      "id": "a44e33e7-879f-49cc-804a-46f10fb20a23",
      "metadata": {
        "id": "a44e33e7-879f-49cc-804a-46f10fb20a23"
      },
      "outputs": [],
      "source": [
        "num1 = int(input(\"Ingrese el primer número entero: \"))\n",
        "num2 = int(input(\"Ingrese el segundo número entero: \"))\n",
        "\n",
        "if num1 % num2 == 0 or num2 % num1 == 0:\n",
        "    print(\"Al menos uno de los números es múltiplo del otro.\")\n",
        "else:\n",
        "    print(\"Los números no son múltiplos entre sí.\")\n"
      ]
    },
    {
      "cell_type": "markdown",
      "id": "e98233d8-174d-406e-a2cd-dc0c1774f18c",
      "metadata": {
        "id": "e98233d8-174d-406e-a2cd-dc0c1774f18c"
      },
      "source": [
        "5. Temperatura"
      ]
    },
    {
      "cell_type": "code",
      "execution_count": null,
      "id": "61c66eef-377a-47c9-ac14-3b9d1cd66c26",
      "metadata": {
        "id": "61c66eef-377a-47c9-ac14-3b9d1cd66c26"
      },
      "outputs": [],
      "source": [
        "import random\n",
        "import statistics\n",
        "def listaAleatorios(n):\n",
        "      lista = [0]  * n\n",
        "      for i in range(n):\n",
        "          lista[i] = random.randint(0, 30)\n",
        "      return lista\n",
        "\n",
        "print(\"Ingrese cuantos numeros aleatorios desea obtener\")\n",
        "n=int(input())\n",
        "\n",
        "temperaturas=listaAleatorios(n)\n",
        "print(temperaturas)"
      ]
    },
    {
      "cell_type": "code",
      "execution_count": null,
      "id": "557a3b0d-7079-4958-951b-26b89224772c",
      "metadata": {
        "id": "557a3b0d-7079-4958-951b-26b89224772c"
      },
      "outputs": [],
      "source": [
        "promedio = statistics.mean(temperaturas)\n",
        "print(f\"El promedio de la temperatura en Bogotá es de {promedio}\")"
      ]
    },
    {
      "cell_type": "markdown",
      "id": "e2ce62a2-6b1c-4c0f-824c-3220e5b34d21",
      "metadata": {
        "id": "e2ce62a2-6b1c-4c0f-824c-3220e5b34d21"
      },
      "source": [
        "##### 5.1"
      ]
    },
    {
      "cell_type": "code",
      "execution_count": null,
      "id": "51c393b8-555b-4cb4-b717-82664aebeb08",
      "metadata": {
        "id": "51c393b8-555b-4cb4-b717-82664aebeb08"
      },
      "outputs": [],
      "source": [
        "def ConvertirEspaciado(texto):\n",
        "    texto_espaciado = \"\"\n",
        "    for letra in texto:\n",
        "        if letra != \" \":\n",
        "            texto_espaciado += letra + \" \"\n",
        "        else:\n",
        "            texto_espaciado += \" \"\n",
        "\n",
        "    return texto_espaciado[:-1]\n",
        "texto = input(\"\")\n",
        "texto_espaciado = ConvertirEspaciado(texto)\n",
        "print(texto_espaciado)"
      ]
    },
    {
      "cell_type": "markdown",
      "id": "0ff46523-d41c-41c9-bc0a-431a76aadaaf",
      "metadata": {
        "id": "0ff46523-d41c-41c9-bc0a-431a76aadaaf"
      },
      "source": [
        "6. Calcular máximo y mínimo"
      ]
    },
    {
      "cell_type": "code",
      "execution_count": null,
      "id": "b593c7ab-1b47-4a78-954d-c3c0a70e6fde",
      "metadata": {
        "id": "b593c7ab-1b47-4a78-954d-c3c0a70e6fde"
      },
      "outputs": [],
      "source": [
        "def calcularMaxMin(arreglo):\n",
        "    maximo = arreglo[0]\n",
        "    minimo = arreglo[0]\n",
        "\n",
        "    for i in range(1, len(arreglo)):\n",
        "        if arreglo[i] > maximo:\n",
        "            maximo = arreglo[i]\n",
        "        if arreglo[i] < minimo:\n",
        "            minimo = arreglo[i]\n",
        "\n",
        "    return maximo, minimo"
      ]
    },
    {
      "cell_type": "code",
      "execution_count": null,
      "id": "4dac27e2-a6c1-4a4f-b9c4-2a90f29c07b7",
      "metadata": {
        "id": "4dac27e2-a6c1-4a4f-b9c4-2a90f29c07b7"
      },
      "outputs": [],
      "source": [
        "arreglo = [5, 7, 3, 8, 2, 9, 1]\n",
        "maximo, minimo = calcularMaxMin(arreglo)\n",
        "print(\"Valor máximo:\", maximo)\n",
        "print(\"Valor mínimo:\", minimo)"
      ]
    },
    {
      "cell_type": "markdown",
      "id": "759fc6c4-dbbf-425a-9005-567f7e5c8308",
      "metadata": {
        "id": "759fc6c4-dbbf-425a-9005-567f7e5c8308"
      },
      "source": [
        "7. Área de un círculo"
      ]
    },
    {
      "cell_type": "code",
      "execution_count": null,
      "id": "ebd0e66c-466f-4867-b065-0df9fe72ceed",
      "metadata": {
        "id": "ebd0e66c-466f-4867-b065-0df9fe72ceed"
      },
      "outputs": [],
      "source": [
        "import math \n",
        "radio=float(input(\"Ingrese el valor del radio\"))\n",
        "area=math.pi*(radio*radio)\n",
        "perimetro = 2 * math.pi * radio\n",
        "print(f\"El valor del área es de {area}\")\n",
        "print(f\"El valor del perimetro es de {perimetro}\")"
      ]
    },
    {
      "cell_type": "markdown",
      "id": "2a914bf4-5461-43f0-8ad8-ddfe8e501201",
      "metadata": {
        "id": "2a914bf4-5461-43f0-8ad8-ddfe8e501201"
      },
      "source": [
        "8. Función \"login\""
      ]
    },
    {
      "cell_type": "code",
      "execution_count": null,
      "id": "c92cd572-6927-4150-abf1-a2cec36da848",
      "metadata": {
        "id": "c92cd572-6927-4150-abf1-a2cec36da848"
      },
      "outputs": [],
      "source": [
        "def Login(usuario, contraseña, intentos):\n",
        "    if usuario == \"usuario1\" and contraseña == \"asdasd\":\n",
        "        return True\n",
        "    else:\n",
        "        intentos += 1\n",
        "        return False, intentos"
      ]
    },
    {
      "cell_type": "code",
      "execution_count": null,
      "id": "096f4985-8807-43f7-aea9-55bb273839cd",
      "metadata": {
        "id": "096f4985-8807-43f7-aea9-55bb273839cd"
      },
      "outputs": [],
      "source": [
        "# Definir el número de intentos inicial\n",
        "intentos = 0\n",
        "\n",
        "# Pedir al usuario que ingrese un nombre de usuario y una contraseña\n",
        "usuario = input(\"Ingrese su nombre de usuario: \")\n",
        "contraseña = input(\"Ingrese su contraseña: \")\n",
        "\n",
        "# Intentar hacer login utilizando la función Login\n",
        "login_exitoso = Login(usuario, contraseña, intentos)\n",
        "\n",
        "# Si el login fue exitoso, imprimir un mensaje de bienvenida\n",
        "if login_exitoso:\n",
        "    print(\"Bienvenido/a!\")\n",
        "# Si el login no fue exitoso, imprimir un mensaje de error y el número de intentos\n",
        "else:\n",
        "    print(\"Nombre de usuario o contraseña incorrectos. Por favor intente de nuevo.\")\n",
        "    print(f\"Ha intentado hacer login {login_exitoso[1]} veces.\")"
      ]
    },
    {
      "cell_type": "markdown",
      "id": "ecdade90-11b9-4c4d-9ebd-3c59304f7c42",
      "metadata": {
        "id": "ecdade90-11b9-4c4d-9ebd-3c59304f7c42"
      },
      "source": [
        "9."
      ]
    },
    {
      "cell_type": "code",
      "execution_count": null,
      "id": "798bcf17-e827-4f49-9752-8c3f726c344f",
      "metadata": {
        "id": "798bcf17-e827-4f49-9752-8c3f726c344f"
      },
      "outputs": [],
      "source": [
        "def factorial(n):\n",
        "    if n == 0 or n == 1:\n",
        "        return 1\n",
        "    else:\n",
        "        return n * factorial(n - 1)"
      ]
    },
    {
      "cell_type": "code",
      "execution_count": null,
      "id": "75648ba8-9e51-4a7d-a461-f9de8a4a61ea",
      "metadata": {
        "id": "75648ba8-9e51-4a7d-a461-f9de8a4a61ea"
      },
      "outputs": [],
      "source": [
        "# Pedir al usuario que ingrese un número entero\n",
        "n = int(input(\"Ingrese un número entero: \"))\n",
        "\n",
        "# Calcular el factorial utilizando la función recursiva\n",
        "factorial_n = factorial(n)\n",
        "\n",
        "# Mostrar el resultado del factorial\n",
        "print(f\"El factorial de {n} es {factorial_n}\")"
      ]
    },
    {
      "cell_type": "markdown",
      "id": "38cbad79-e07e-4940-a99a-264f136f4f80",
      "metadata": {
        "id": "38cbad79-e07e-4940-a99a-264f136f4f80"
      },
      "source": [
        "10."
      ]
    },
    {
      "cell_type": "code",
      "execution_count": null,
      "id": "e1f55218-fa3e-47f3-be58-6aafbf5e3707",
      "metadata": {
        "id": "e1f55218-fa3e-47f3-be58-6aafbf5e3707"
      },
      "outputs": [],
      "source": [
        "def calcular_segundos(horas, minutos, segundos):\n",
        "    total_segundos = horas * 3600 + minutos * 60 + segundos\n",
        "    return total_segundos"
      ]
    },
    {
      "cell_type": "code",
      "execution_count": null,
      "id": "358f59b3-4cdb-4d28-a4bc-4e5208b52f96",
      "metadata": {
        "id": "358f59b3-4cdb-4d28-a4bc-4e5208b52f96"
      },
      "outputs": [],
      "source": [
        "# Pedir al usuario que ingrese un tiempo en horas, minutos y segundos\n",
        "horas = int(input(\"Ingrese la cantidad de horas: \"))\n",
        "minutos = int(input(\"Ingrese la cantidad de minutos: \"))\n",
        "segundos = int(input(\"Ingrese la cantidad de segundos: \"))\n",
        "\n",
        "# Calcular la cantidad total de segundos utilizando la función calcular_segundos\n",
        "total_segundos = calcular_segundos(horas, minutos, segundos)\n",
        "\n",
        "# Imprimir la cantidad total de segundos\n",
        "print(f\"La cantidad total de segundos es: {total_segundos}\")"
      ]
    },
    {
      "cell_type": "markdown",
      "id": "54754dfe-16b5-49e1-9b7b-70322bc616b4",
      "metadata": {
        "id": "54754dfe-16b5-49e1-9b7b-70322bc616b4"
      },
      "source": [
        "11."
      ]
    },
    {
      "cell_type": "code",
      "execution_count": null,
      "id": "17f5d84e-5cba-4b24-8f9d-dea55d5f7b44",
      "metadata": {
        "id": "17f5d84e-5cba-4b24-8f9d-dea55d5f7b44"
      },
      "outputs": [],
      "source": [
        "def calcular_tiempo(segundos):\n",
        "    horas = segundos // 3600\n",
        "    segundos %= 3600\n",
        "    minutos = segundos // 60\n",
        "    segundos %= 60\n",
        "    return horas, minutos, segundos"
      ]
    },
    {
      "cell_type": "code",
      "execution_count": null,
      "id": "a4375ad8-fa42-459f-835d-a8137c9af1e4",
      "metadata": {
        "id": "a4375ad8-fa42-459f-835d-a8137c9af1e4"
      },
      "outputs": [],
      "source": [
        "segundos = int(input(\"\"))\n",
        "horas, minutos, segundos_restantes = calcular_tiempo(segundos)\n",
        "print(f\"La cantidad de horas es: {horas}\")\n",
        "print(f\"La cantidad de minutos es: {minutos}\")\n",
        "print(f\"La cantidad de segundos es: {segundos_restantes}\")"
      ]
    },
    {
      "cell_type": "markdown",
      "id": "566d0013-6c1f-457f-bd69-8ca7c229210e",
      "metadata": {
        "id": "566d0013-6c1f-457f-bd69-8ca7c229210e"
      },
      "source": [
        "11."
      ]
    },
    {
      "cell_type": "code",
      "execution_count": null,
      "id": "ef4c88f3-8ac7-4949-a8bf-2349bc7439bd",
      "metadata": {
        "id": "ef4c88f3-8ac7-4949-a8bf-2349bc7439bd"
      },
      "outputs": [],
      "source": [
        "def invertir_tupla(tupla):\n",
        "    nueva_tupla = tuple(reversed(tupla))\n",
        "    return nueva_tupla"
      ]
    },
    {
      "cell_type": "code",
      "execution_count": null,
      "id": "8dae70a5-1853-485f-9799-63d7a8041a41",
      "metadata": {
        "id": "8dae70a5-1853-485f-9799-63d7a8041a41"
      },
      "outputs": [],
      "source": [
        "# Crear una tupla\n",
        "mi_tupla = (4, 8, 9, 2, 1)\n",
        "\n",
        "# Llamar a la función invertir_tupla con la tupla creada como argumento\n",
        "nueva_tupla = invertir_tupla(mi_tupla)\n",
        "\n",
        "# Imprimir la tupla original y la nueva tupla\n",
        "print(f\"Tupla original: {mi_tupla}\")\n",
        "print(f\"Tupla invertida: {nueva_tupla}\")\n"
      ]
    },
    {
      "cell_type": "markdown",
      "id": "6f2775db-a738-436e-a130-364a2765a73e",
      "metadata": {
        "id": "6f2775db-a738-436e-a130-364a2765a73e"
      },
      "source": [
        "12."
      ]
    },
    {
      "cell_type": "code",
      "execution_count": null,
      "id": "b7d96c84-1a8c-45fc-87c0-21555565dea4",
      "metadata": {
        "id": "b7d96c84-1a8c-45fc-87c0-21555565dea4"
      },
      "outputs": [],
      "source": [
        "from functools import reduce\n",
        "import math\n",
        "\n",
        "def media_geometrica(lista):\n",
        "    producto = reduce(lambda x, y: x * y, lista)\n",
        "    n = len(lista)\n",
        "    media = math.pow(producto, 1/n)\n",
        "    return media"
      ]
    },
    {
      "cell_type": "code",
      "execution_count": null,
      "id": "b0a367b3-5dcf-4913-a6a2-b59d88c6b5f6",
      "metadata": {
        "id": "b0a367b3-5dcf-4913-a6a2-b59d88c6b5f6"
      },
      "outputs": [],
      "source": [
        "mi_lista = [2, 4, 6, 8, 10]\n",
        "media = media_geometrica(mi_lista)\n",
        "print(f\"La media geométrica de la lista es: {media}\")"
      ]
    },
    {
      "cell_type": "code",
      "execution_count": null,
      "id": "57112ee3-7be0-4321-a549-61c2f6ef9666",
      "metadata": {
        "id": "57112ee3-7be0-4321-a549-61c2f6ef9666"
      },
      "outputs": [],
      "source": []
    }
  ],
  "metadata": {
    "kernelspec": {
      "display_name": "Python 3 (ipykernel)",
      "language": "python",
      "name": "python3"
    },
    "language_info": {
      "codemirror_mode": {
        "name": "ipython",
        "version": 3
      },
      "file_extension": ".py",
      "mimetype": "text/x-python",
      "name": "python",
      "nbconvert_exporter": "python",
      "pygments_lexer": "ipython3",
      "version": "3.9.7"
    },
    "colab": {
      "provenance": []
    }
  },
  "nbformat": 4,
  "nbformat_minor": 5
}